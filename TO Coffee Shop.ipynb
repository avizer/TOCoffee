{
    "cells": [
        {
            "cell_type": "markdown",
            "metadata": {
                "collapsed": true
            },
            "source": "# Where To Open A New Coffee Shop In Toronto?"
        },
        {
            "cell_type": "markdown",
            "metadata": {},
            "source": "**Introduction:** An International Coffee chain is looking to expand to Canada and wants to open its first location in Toronto. It wants to ensure that its first location is a success, and is looking for an area that fits the following criteria:\n\n- **Large customer base:** Densely populated area with many residents, offices and schools**\n- **Underdeveloped coffee scene**: Not many existing coffee shops in the area\n\nThis analysis will aim to find Toronto neighbourhoods that satisfy these criteria"
        },
        {
            "cell_type": "markdown",
            "metadata": {},
            "source": "**Data**\nThis analysis will be performed by integrating the following data sets:\n- Neighbourhood information for the City of Toronto that will be obtained from Wikipedia\n- Venue related information for the City of Toronto that will be obtained from the Foursquare API\n\nThe data will be converted into a final pandas data frame for analysis, and Folium will be used to visualize it. Finally, k-means clustering will be used to discover neighbourhoods that are best suited to opening a new coffee shop "
        },
        {
            "cell_type": "markdown",
            "metadata": {},
            "source": ""
        }
    ],
    "metadata": {
        "kernelspec": {
            "display_name": "Python 3.6",
            "language": "python",
            "name": "python3"
        },
        "language_info": {
            "codemirror_mode": {
                "name": "ipython",
                "version": 3
            },
            "file_extension": ".py",
            "mimetype": "text/x-python",
            "name": "python",
            "nbconvert_exporter": "python",
            "pygments_lexer": "ipython3",
            "version": "3.6.9"
        }
    },
    "nbformat": 4,
    "nbformat_minor": 1
}